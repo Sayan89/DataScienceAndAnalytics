{
 "cells": [
  {
   "cell_type": "markdown",
   "metadata": {},
   "source": [
    "# Loading libraries"
   ]
  },
  {
   "cell_type": "code",
   "execution_count": 257,
   "metadata": {},
   "outputs": [],
   "source": [
    "import os\n",
    "import pandas as pd\n",
    "import numpy as np\n",
    "from sklearn import neighbors\n",
    "import seaborn as sns\n",
    "from sklearn.neighbors import KNeighborsRegressor\n",
    "from sklearn.preprocessing import OneHotEncoder\n",
    "from sklearn.preprocessing import StandardScaler\n",
    "from sklearn.preprocessing import LabelEncoder\n",
    "from sklearn.cross_validation import train_test_split\n",
    "from sklearn.tree import DecisionTreeRegressor\n",
    "import matplotlib.pyplot as plt\n",
    "import scipy\n",
    "import plotly.plotly as py1\n",
    "from scipy.stats import linregress\n",
    "from scipy.stats import shapiro\n",
    "from scipy.stats import chi2_contingency\n",
    "from pylab import *\n",
    "import statsmodels\n",
    "import statsmodels.api as sm\n",
    "from statsmodels.formula.api import ols\n",
    "from statsmodels.graphics.gofplots import qqplot\n",
    "import seaborn as sns\n",
    "import statistics\n",
    "import csv\n",
    "from sklearn.preprocessing import Imputer"
   ]
  },
  {
   "cell_type": "code",
   "execution_count": 258,
   "metadata": {},
   "outputs": [],
   "source": [
    "# Creating workspace\n",
    "\n",
    "os.chdir('C:/Users/SAYAN/Desktop/Data Science/Projects/Python Folder/Jupyter Folder For DA')"
   ]
  },
  {
   "cell_type": "code",
   "execution_count": 259,
   "metadata": {},
   "outputs": [
    {
     "data": {
      "text/plain": [
       "'C:\\\\Users\\\\SAYAN\\\\Desktop\\\\Data Science\\\\Projects\\\\Python Folder\\\\Jupyter Folder For DA'"
      ]
     },
     "execution_count": 259,
     "metadata": {},
     "output_type": "execute_result"
    }
   ],
   "source": [
    "# Confirming workspace\n",
    "\n",
    "os.getcwd()"
   ]
  },
  {
   "cell_type": "code",
   "execution_count": 260,
   "metadata": {},
   "outputs": [],
   "source": [
    "%config IPCompleter.greedy=True"
   ]
  },
  {
   "cell_type": "code",
   "execution_count": 261,
   "metadata": {},
   "outputs": [],
   "source": [
    "# Reading excel file\n",
    "\n",
    "data = pd.read_excel('Absenteeism_at_work_Project.xls')"
   ]
  },
  {
   "cell_type": "code",
   "execution_count": 182,
   "metadata": {},
   "outputs": [
    {
     "data": {
      "text/plain": [
       "pandas.core.frame.DataFrame"
      ]
     },
     "execution_count": 182,
     "metadata": {},
     "output_type": "execute_result"
    }
   ],
   "source": [
    "# Datatype finding\n",
    "\n",
    "type(data)"
   ]
  },
  {
   "cell_type": "code",
   "execution_count": 263,
   "metadata": {},
   "outputs": [
    {
     "data": {
      "text/plain": [
       "0    3.0\n",
       "dtype: float64"
      ]
     },
     "execution_count": 263,
     "metadata": {},
     "output_type": "execute_result"
    }
   ],
   "source": [
    "data['Month of absence'].mode()"
   ]
  },
  {
   "cell_type": "markdown",
   "metadata": {},
   "source": [
    "# Converting datatype and replacing values"
   ]
  },
  {
   "cell_type": "code",
   "execution_count": 264,
   "metadata": {},
   "outputs": [],
   "source": [
    "# Converting variable \"Reason for Absence\" as string\n",
    "\n",
    "data['Reason for absence']=(data['Reason for absence']).astype(str)\n",
    "\n",
    "# Replacing values as per data\n",
    "\n",
    "# With ICD :\n",
    "\n",
    "data['Reason for absence'] = data['Reason for absence'].replace('1.0','Certain infectious and parasitic diseases')\n",
    "data['Reason for absence'] = data['Reason for absence'].replace('2.0','Neoplasms')\n",
    "data['Reason for absence'] = data['Reason for absence'].replace('3.0','Diseases of the blood and blood-forming organs and certain disorders involving the immune mechanism')\n",
    "data['Reason for absence'] = data['Reason for absence'].replace('4.0','Endocrine, nutritional and metabolic diseases')\n",
    "data['Reason for absence'] = data['Reason for absence'].replace('5.0','Mental and behavioural disorders')\n",
    "data['Reason for absence'] = data['Reason for absence'].replace('6.0','Diseases of the nervous system')\n",
    "data['Reason for absence'] = data['Reason for absence'].replace('7.0','Diseases of the eye and adnexa')\n",
    "data['Reason for absence'] = data['Reason for absence'].replace('8.0','Diseases of the ear and mastoid process')\n",
    "data['Reason for absence'] = data['Reason for absence'].replace('9.0','Diseases of the circulatory system')\n",
    "data['Reason for absence'] = data['Reason for absence'].replace('10.0','Diseases of the respiratory system')\n",
    "data['Reason for absence'] = data['Reason for absence'].replace('11.0','Diseases of the digestive system')\n",
    "data['Reason for absence'] = data['Reason for absence'].replace('12.0','Diseases of the skin and subcutaneous tissue')\n",
    "data['Reason for absence'] = data['Reason for absence'].replace('13.0','Diseases of the musculoskeletal system and connective tissue')\n",
    "data['Reason for absence'] = data['Reason for absence'].replace('14.0','Diseases of the genitourinary system')\n",
    "data['Reason for absence'] = data['Reason for absence'].replace('15.0','Pregnancy, childbirth and the puerperium')\n",
    "data['Reason for absence'] = data['Reason for absence'].replace('16.0','Certain conditions originating in the perinatal period')\n",
    "data['Reason for absence'] = data['Reason for absence'].replace('17.0','Congenital malformations, deformations and chromosomal abnormalities')\n",
    "data['Reason for absence'] = data['Reason for absence'].replace('18.0','Symptoms, signs and abnormal clinical and laboratory findings, not elsewhere classified')\n",
    "data['Reason for absence'] = data['Reason for absence'].replace('19.0','Injury, poisoning and certain other consequences of external causes')\n",
    "data['Reason for absence'] = data['Reason for absence'].replace('20.0','External causes of morbidity and mortality')\n",
    "data['Reason for absence'] = data['Reason for absence'].replace('21.0','Factors influencing health status and contact with health services')\n",
    "\n",
    "# Without ICD\n",
    "\n",
    "data['Reason for absence'] = data['Reason for absence'].replace('22.0','patient follow-up')\n",
    "data['Reason for absence'] = data['Reason for absence'].replace('23.0','medical consultation')\n",
    "data['Reason for absence'] = data['Reason for absence'].replace('24.0','blood donation')\n",
    "data['Reason for absence'] = data['Reason for absence'].replace('25.0','laboratory examination')\n",
    "data['Reason for absence'] = data['Reason for absence'].replace('26.0','unjustified absence')\n",
    "data['Reason for absence'] = data['Reason for absence'].replace('27.0','physiotherapy')\n",
    "data['Reason for absence'] = data['Reason for absence'].replace('28.0','dental consultation')\n",
    "\n",
    "# Day of the week\n",
    "\n",
    "data['Day of the week'] = data['Day of the week'].replace(3,'Tuesday')\n",
    "data['Day of the week'] = data['Day of the week'].replace(2,'Monday')\n",
    "data['Day of the week'] = data['Day of the week'].replace(4,'Wednesday')\n",
    "data['Day of the week'] = data['Day of the week'].replace(5,'Thursday')\n",
    "data['Day of the week'] = data['Day of the week'].replace(6,'Friday')\n",
    "\n",
    "# Seasons\n",
    "\n",
    "data['Seasons'] = data['Seasons'].replace(1,'summer')\n",
    "data['Seasons'] = data['Seasons'].replace(2,'autumn')\n",
    "data['Seasons'] = data['Seasons'].replace(3,'winter')\n",
    "data['Seasons'] = data['Seasons'].replace(4,'spring')\n",
    "\n",
    "# Disciplinary failure\n",
    "\n",
    "data['Disciplinary failure'] = data['Disciplinary failure'].replace(1,'yes')\n",
    "data['Disciplinary failure'] = data['Disciplinary failure'].replace(0,'no')\n",
    "\n",
    "# Education\n",
    "\n",
    "data['Education'] = data['Education'].replace(1,'high school')\n",
    "data['Education'] = data['Education'].replace(2,'graduate')\n",
    "data['Education'] = data['Education'].replace(3,'postgraduate')\n",
    "data['Education'] = data['Education'].replace(4,'master and doctor')\n",
    "\n",
    "# Social smoker\n",
    "\n",
    "data['Social smoker'] = data['Social smoker'].replace(1,'yes')\n",
    "data['Social smoker'] = data['Social smoker'].replace(0,'no')\n",
    "\n",
    "# Social drinker\n",
    "\n",
    "data['Social drinker'] = data['Social drinker'].replace(1,'yes')\n",
    "data['Social drinker'] = data['Social drinker'].replace(0,'no')\n",
    "\n"
   ]
  },
  {
   "cell_type": "markdown",
   "metadata": {},
   "source": [
    "# Sorting dataset by ID"
   ]
  },
  {
   "cell_type": "code",
   "execution_count": 266,
   "metadata": {},
   "outputs": [],
   "source": [
    "# Sorting dataset by ID\n",
    "\n",
    "data = data.sort_values(by=['ID']).reset_index(drop=True)"
   ]
  },
  {
   "cell_type": "markdown",
   "metadata": {},
   "source": [
    "# Missing value imputation with mode() for categorical variables"
   ]
  },
  {
   "cell_type": "code",
   "execution_count": 267,
   "metadata": {},
   "outputs": [],
   "source": [
    "data['Reason for absence'] = data['Reason for absence'].fillna('0.0')\n",
    "\n",
    "#data['Reason for absence'].mode()\n",
    "\n",
    "data['Reason for absence'] = data['Reason for absence'].replace('0.0','medical consultation') # as mode for data['Reason for absence']='medical consultation'\n",
    "\n",
    "data['Month of absence'] = data['Month of absence'].fillna('0.0') # filling nan values with 0.0\n",
    "\n",
    "#data['Month of absence'].mode()\n",
    "\n",
    "data['Month of absence'] = data['Month of absence'].replace('0.0','3.0') # as mode for data['Month of absence']='3'\n",
    "\n",
    "\n",
    "data['Disciplinary failure'] = data['Disciplinary failure'].fillna(0.0) # filling nan values with 0.0\n",
    "\n",
    "#data['Disciplinary failure'].mode()\n",
    "\n",
    "data['Disciplinary failure'] = data['Disciplinary failure'].replace(0.0,'no') # as mode for data['Disciplinary failure']='no'\n",
    "\n",
    "data['Education'] = data['Education'].fillna(0.0) # filling nan values with 0.0\n",
    "\n",
    "#data['Education'].mode()\n",
    "\n",
    "data['Education'] = data['Education'].replace(0.0,'high school') # as mode for data['Education']='high school'\n",
    "\n",
    "data['Social drinker'] = data['Social drinker'].fillna(0.0) # filling nan values with 0.0\n",
    "\n",
    "#data['Social drinker'].mode()\n",
    "\n",
    "data['Social drinker'] = data['Social drinker'].replace(0.0,'yes') # as mode for data['Social drinker']='yes'\n",
    "\n",
    "data['Social smoker'] = data['Social smoker'].fillna(0.0) # filling nan values with 0.0\n",
    "\n",
    "#data['Social smoker'].mode()\n",
    "\n",
    "data['Social smoker'] = data['Social smoker'].replace(0.0,'no') # as mode for data['Social smoker']='no'"
   ]
  },
  {
   "cell_type": "code",
   "execution_count": 268,
   "metadata": {},
   "outputs": [],
   "source": [
    "#writer = pd.ExcelWriter('Dummy1.xlsx', engine='xlsxwriter')\n",
    "#data.to_excel(writer, sheet_name='Sheet1')\n",
    "#writer.save()"
   ]
  },
  {
   "cell_type": "code",
   "execution_count": 269,
   "metadata": {},
   "outputs": [],
   "source": [
    "missing_val = pd.DataFrame(data.isnull().sum(axis=0))\n",
    "missing_val = missing_val.reset_index()\n",
    "missing_val = missing_val.rename(columns={'index':'Variables', 0:'Percentage of missing data'})\n",
    "missing_val['Percentage of missing data'] = (missing_val['Percentage of missing data']/len(data)) * 100\n",
    "#missing_val"
   ]
  },
  {
   "cell_type": "code",
   "execution_count": 270,
   "metadata": {},
   "outputs": [],
   "source": [
    "#data.describe()"
   ]
  },
  {
   "cell_type": "code",
   "execution_count": 271,
   "metadata": {},
   "outputs": [],
   "source": [
    "#data"
   ]
  },
  {
   "cell_type": "markdown",
   "metadata": {},
   "source": [
    "# Grouping data by ID"
   ]
  },
  {
   "cell_type": "code",
   "execution_count": 272,
   "metadata": {},
   "outputs": [],
   "source": [
    "#data.groupby(data.ID==1)['Distance from Residence to Work'].mean()\n",
    "\n",
    "#len(unique(data['ID']))"
   ]
  },
  {
   "cell_type": "markdown",
   "metadata": {},
   "source": [
    "# Missing value imputation of continuous variables"
   ]
  },
  {
   "cell_type": "code",
   "execution_count": 273,
   "metadata": {},
   "outputs": [],
   "source": [
    "# We see that 'Transportation expense','Distance from Residence to Work','Service time','Age','Son','Pet', 'Weight','Height','Body mass index' \n",
    "#are the same for each ID.\n",
    "\n",
    "# On the other hand,'Work load Average/day ','Hit target' and 'Absenteeism time in hours' are having random values.\n",
    "\n",
    "\n",
    "data['Work load Average/day '] = data['Work load Average/day '].fillna(data['Work load Average/day '].median())\n",
    "\n",
    "data['Hit target'] = data['Hit target'].fillna(data['Hit target'].median())\n",
    "\n",
    "data['Absenteeism time in hours'] = data['Absenteeism time in hours'].fillna(data['Absenteeism time in hours'].median())\n",
    "\n",
    "for i in range(1,len(unique(data['ID']))+1):\n",
    "    data['Transportation expense'] = data['Transportation expense'].fillna(data.groupby(data.ID==i)['Transportation expense'].mean()[1])\n",
    "    data['Distance from Residence to Work'] = data['Distance from Residence to Work'].fillna(data.groupby(data.ID==i)['Distance from Residence to Work'].mean()[1])\n",
    "    data['Service time'] = data['Service time'].fillna(data.groupby(data.ID==i)['Service time'].mean()[1])\n",
    "    data['Age'] = data['Age'].fillna(data.groupby(data.ID==i)['Age'].mean()[1])\n",
    "    data['Son'] = data['Son'].fillna(data.groupby(data.ID==i)['Son'].mean()[1])\n",
    "    data['Pet'] = data['Pet'].fillna(data.groupby(data.ID==i)['Pet'].mean()[1])\n",
    "    data['Weight'] = data['Weight'].fillna(data.groupby(data.ID==i)['Weight'].mean()[1])\n",
    "    data['Height'] = data['Height'].fillna(data.groupby(data.ID==i)['Height'].mean()[1])\n",
    "    data['Body mass index'] = data['Body mass index'].fillna(data.groupby(data.ID==i)['Body mass index'].mean()[1])\n",
    "    "
   ]
  },
  {
   "cell_type": "code",
   "execution_count": 274,
   "metadata": {},
   "outputs": [],
   "source": [
    "#writer = pd.ExcelWriter('Dummy2.xlsx', engine='xlsxwriter')\n",
    "#data.to_excel(writer, sheet_name='Sheet1')\n",
    "#writer.save()"
   ]
  },
  {
   "cell_type": "markdown",
   "metadata": {},
   "source": [
    "# Outlier analysis"
   ]
  },
  {
   "cell_type": "code",
   "execution_count": 275,
   "metadata": {},
   "outputs": [],
   "source": [
    "%matplotlib inline"
   ]
  },
  {
   "cell_type": "code",
   "execution_count": 276,
   "metadata": {},
   "outputs": [],
   "source": [
    "num = ['Transportation expense','Distance from Residence to Work','Service time','Age','Work load Average/day ','Hit target','Pet','Weight','Son','Height','Body mass index','Absenteeism time in hours']"
   ]
  },
  {
   "cell_type": "code",
   "execution_count": 277,
   "metadata": {},
   "outputs": [
    {
     "name": "stderr",
     "output_type": "stream",
     "text": [
      "C:\\Users\\SAYAN\\Anaconda3\\lib\\site-packages\\ipykernel_launcher.py:6: SettingWithCopyWarning:\n",
      "\n",
      "\n",
      "A value is trying to be set on a copy of a slice from a DataFrame\n",
      "\n",
      "See the caveats in the documentation: http://pandas.pydata.org/pandas-docs/stable/indexing.html#indexing-view-versus-copy\n",
      "\n",
      "C:\\Users\\SAYAN\\Anaconda3\\lib\\site-packages\\ipykernel_launcher.py:7: SettingWithCopyWarning:\n",
      "\n",
      "\n",
      "A value is trying to be set on a copy of a slice from a DataFrame\n",
      "\n",
      "See the caveats in the documentation: http://pandas.pydata.org/pandas-docs/stable/indexing.html#indexing-view-versus-copy\n",
      "\n",
      "C:\\Users\\SAYAN\\Anaconda3\\lib\\site-packages\\ipykernel_launcher.py:16: SettingWithCopyWarning:\n",
      "\n",
      "\n",
      "A value is trying to be set on a copy of a slice from a DataFrame\n",
      "\n",
      "See the caveats in the documentation: http://pandas.pydata.org/pandas-docs/stable/indexing.html#indexing-view-versus-copy\n",
      "\n",
      "C:\\Users\\SAYAN\\Anaconda3\\lib\\site-packages\\ipykernel_launcher.py:17: SettingWithCopyWarning:\n",
      "\n",
      "\n",
      "A value is trying to be set on a copy of a slice from a DataFrame\n",
      "\n",
      "See the caveats in the documentation: http://pandas.pydata.org/pandas-docs/stable/indexing.html#indexing-view-versus-copy\n",
      "\n",
      "C:\\Users\\SAYAN\\Anaconda3\\lib\\site-packages\\ipykernel_launcher.py:25: SettingWithCopyWarning:\n",
      "\n",
      "\n",
      "A value is trying to be set on a copy of a slice from a DataFrame\n",
      "\n",
      "See the caveats in the documentation: http://pandas.pydata.org/pandas-docs/stable/indexing.html#indexing-view-versus-copy\n",
      "\n",
      "C:\\Users\\SAYAN\\Anaconda3\\lib\\site-packages\\ipykernel_launcher.py:26: SettingWithCopyWarning:\n",
      "\n",
      "\n",
      "A value is trying to be set on a copy of a slice from a DataFrame\n",
      "\n",
      "See the caveats in the documentation: http://pandas.pydata.org/pandas-docs/stable/indexing.html#indexing-view-versus-copy\n",
      "\n",
      "C:\\Users\\SAYAN\\Anaconda3\\lib\\site-packages\\ipykernel_launcher.py:34: SettingWithCopyWarning:\n",
      "\n",
      "\n",
      "A value is trying to be set on a copy of a slice from a DataFrame\n",
      "\n",
      "See the caveats in the documentation: http://pandas.pydata.org/pandas-docs/stable/indexing.html#indexing-view-versus-copy\n",
      "\n",
      "C:\\Users\\SAYAN\\Anaconda3\\lib\\site-packages\\ipykernel_launcher.py:35: SettingWithCopyWarning:\n",
      "\n",
      "\n",
      "A value is trying to be set on a copy of a slice from a DataFrame\n",
      "\n",
      "See the caveats in the documentation: http://pandas.pydata.org/pandas-docs/stable/indexing.html#indexing-view-versus-copy\n",
      "\n",
      "C:\\Users\\SAYAN\\Anaconda3\\lib\\site-packages\\ipykernel_launcher.py:43: SettingWithCopyWarning:\n",
      "\n",
      "\n",
      "A value is trying to be set on a copy of a slice from a DataFrame\n",
      "\n",
      "See the caveats in the documentation: http://pandas.pydata.org/pandas-docs/stable/indexing.html#indexing-view-versus-copy\n",
      "\n",
      "C:\\Users\\SAYAN\\Anaconda3\\lib\\site-packages\\ipykernel_launcher.py:44: SettingWithCopyWarning:\n",
      "\n",
      "\n",
      "A value is trying to be set on a copy of a slice from a DataFrame\n",
      "\n",
      "See the caveats in the documentation: http://pandas.pydata.org/pandas-docs/stable/indexing.html#indexing-view-versus-copy\n",
      "\n",
      "C:\\Users\\SAYAN\\Anaconda3\\lib\\site-packages\\ipykernel_launcher.py:52: SettingWithCopyWarning:\n",
      "\n",
      "\n",
      "A value is trying to be set on a copy of a slice from a DataFrame\n",
      "\n",
      "See the caveats in the documentation: http://pandas.pydata.org/pandas-docs/stable/indexing.html#indexing-view-versus-copy\n",
      "\n",
      "C:\\Users\\SAYAN\\Anaconda3\\lib\\site-packages\\ipykernel_launcher.py:53: SettingWithCopyWarning:\n",
      "\n",
      "\n",
      "A value is trying to be set on a copy of a slice from a DataFrame\n",
      "\n",
      "See the caveats in the documentation: http://pandas.pydata.org/pandas-docs/stable/indexing.html#indexing-view-versus-copy\n",
      "\n",
      "C:\\Users\\SAYAN\\Anaconda3\\lib\\site-packages\\ipykernel_launcher.py:61: SettingWithCopyWarning:\n",
      "\n",
      "\n",
      "A value is trying to be set on a copy of a slice from a DataFrame\n",
      "\n",
      "See the caveats in the documentation: http://pandas.pydata.org/pandas-docs/stable/indexing.html#indexing-view-versus-copy\n",
      "\n",
      "C:\\Users\\SAYAN\\Anaconda3\\lib\\site-packages\\ipykernel_launcher.py:62: SettingWithCopyWarning:\n",
      "\n",
      "\n",
      "A value is trying to be set on a copy of a slice from a DataFrame\n",
      "\n",
      "See the caveats in the documentation: http://pandas.pydata.org/pandas-docs/stable/indexing.html#indexing-view-versus-copy\n",
      "\n",
      "C:\\Users\\SAYAN\\Anaconda3\\lib\\site-packages\\ipykernel_launcher.py:70: SettingWithCopyWarning:\n",
      "\n",
      "\n",
      "A value is trying to be set on a copy of a slice from a DataFrame\n",
      "\n",
      "See the caveats in the documentation: http://pandas.pydata.org/pandas-docs/stable/indexing.html#indexing-view-versus-copy\n",
      "\n",
      "C:\\Users\\SAYAN\\Anaconda3\\lib\\site-packages\\ipykernel_launcher.py:71: SettingWithCopyWarning:\n",
      "\n",
      "\n",
      "A value is trying to be set on a copy of a slice from a DataFrame\n",
      "\n",
      "See the caveats in the documentation: http://pandas.pydata.org/pandas-docs/stable/indexing.html#indexing-view-versus-copy\n",
      "\n",
      "C:\\Users\\SAYAN\\Anaconda3\\lib\\site-packages\\ipykernel_launcher.py:79: SettingWithCopyWarning:\n",
      "\n",
      "\n",
      "A value is trying to be set on a copy of a slice from a DataFrame\n",
      "\n",
      "See the caveats in the documentation: http://pandas.pydata.org/pandas-docs/stable/indexing.html#indexing-view-versus-copy\n",
      "\n",
      "C:\\Users\\SAYAN\\Anaconda3\\lib\\site-packages\\ipykernel_launcher.py:80: SettingWithCopyWarning:\n",
      "\n",
      "\n",
      "A value is trying to be set on a copy of a slice from a DataFrame\n",
      "\n",
      "See the caveats in the documentation: http://pandas.pydata.org/pandas-docs/stable/indexing.html#indexing-view-versus-copy\n",
      "\n",
      "C:\\Users\\SAYAN\\Anaconda3\\lib\\site-packages\\ipykernel_launcher.py:88: SettingWithCopyWarning:\n",
      "\n",
      "\n",
      "A value is trying to be set on a copy of a slice from a DataFrame\n",
      "\n",
      "See the caveats in the documentation: http://pandas.pydata.org/pandas-docs/stable/indexing.html#indexing-view-versus-copy\n",
      "\n",
      "C:\\Users\\SAYAN\\Anaconda3\\lib\\site-packages\\ipykernel_launcher.py:89: SettingWithCopyWarning:\n",
      "\n",
      "\n",
      "A value is trying to be set on a copy of a slice from a DataFrame\n",
      "\n",
      "See the caveats in the documentation: http://pandas.pydata.org/pandas-docs/stable/indexing.html#indexing-view-versus-copy\n",
      "\n",
      "C:\\Users\\SAYAN\\Anaconda3\\lib\\site-packages\\ipykernel_launcher.py:97: SettingWithCopyWarning:\n",
      "\n",
      "\n",
      "A value is trying to be set on a copy of a slice from a DataFrame\n",
      "\n",
      "See the caveats in the documentation: http://pandas.pydata.org/pandas-docs/stable/indexing.html#indexing-view-versus-copy\n",
      "\n",
      "C:\\Users\\SAYAN\\Anaconda3\\lib\\site-packages\\ipykernel_launcher.py:98: SettingWithCopyWarning:\n",
      "\n",
      "\n",
      "A value is trying to be set on a copy of a slice from a DataFrame\n",
      "\n",
      "See the caveats in the documentation: http://pandas.pydata.org/pandas-docs/stable/indexing.html#indexing-view-versus-copy\n",
      "\n",
      "C:\\Users\\SAYAN\\Anaconda3\\lib\\site-packages\\ipykernel_launcher.py:106: SettingWithCopyWarning:\n",
      "\n",
      "\n",
      "A value is trying to be set on a copy of a slice from a DataFrame\n",
      "\n",
      "See the caveats in the documentation: http://pandas.pydata.org/pandas-docs/stable/indexing.html#indexing-view-versus-copy\n",
      "\n",
      "C:\\Users\\SAYAN\\Anaconda3\\lib\\site-packages\\ipykernel_launcher.py:107: SettingWithCopyWarning:\n",
      "\n",
      "\n",
      "A value is trying to be set on a copy of a slice from a DataFrame\n",
      "\n",
      "See the caveats in the documentation: http://pandas.pydata.org/pandas-docs/stable/indexing.html#indexing-view-versus-copy\n",
      "\n"
     ]
    }
   ],
   "source": [
    "q75_1,q25_1 = np.percentile(data['Transportation expense'],[75,25])\n",
    "iqr1 = q75_1-q25_1 # calculate the IQR (Inter Quartile Range)\n",
    "lower1 = q25_1-(1.5*iqr1)\n",
    "upper1 = q75_1+(1.5*iqr1)\n",
    "\n",
    "data['Transportation expense'][data[data.loc[:,'Transportation expense']<lower1].index]=np.nan\n",
    "data['Transportation expense'][data[data.loc[:,'Transportation expense']>upper1].index]=np.nan\n",
    "\n",
    "\n",
    "\n",
    "q75_2,q25_2 = np.percentile(data['Distance from Residence to Work'],[75,25])\n",
    "iqr2 = q75_2-q25_2 # calculate the IQR (Inter Quartile Range)\n",
    "lower2 = q25_2-(1.5*iqr2)\n",
    "upper2 = q75_2+(1.5*iqr2)\n",
    "\n",
    "data['Distance from Residence to Work'][data[data.loc[:,'Distance from Residence to Work']<lower2].index]=np.nan\n",
    "data['Distance from Residence to Work'][data[data.loc[:,'Distance from Residence to Work']>upper2].index]=np.nan\n",
    "\n",
    "\n",
    "q75_3,q25_3 = np.percentile(data['Service time'],[75,25])\n",
    "iqr3 = q75_3-q25_3 # calculate the IQR (Inter Quartile Range)\n",
    "lower3 = q25_3-(1.5*iqr3)\n",
    "upper3 = q75_3+(1.5*iqr3)\n",
    "\n",
    "data['Service time'][data[data.loc[:,'Service time']<lower3].index]=np.nan\n",
    "data['Service time'][data[data.loc[:,'Service time']>upper3].index]=np.nan\n",
    "\n",
    "\n",
    "q75_4,q25_4 = np.percentile(data['Age'],[75,25])\n",
    "iqr4 = q75_4-q25_4 # calculate the IQR (Inter Quartile Range)\n",
    "lower4 = q25_4-(1.5*iqr4)\n",
    "upper4 = q75_4+(1.5*iqr4)\n",
    "\n",
    "data['Age'][data[data.loc[:,'Age']<lower4].index]=np.nan\n",
    "data['Age'][data[data.loc[:,'Age']>upper4].index]=np.nan\n",
    "\n",
    "\n",
    "q75_5,q25_5 = np.percentile(data['Work load Average/day '],[75,25])\n",
    "iqr5 = q75_5-q25_5 # calculate the IQR (Inter Quartile Range)\n",
    "lower5 = q25_5-(1.5*iqr5)\n",
    "upper5 = q75_5+(1.5*iqr5)\n",
    "\n",
    "data['Work load Average/day '][data[data.loc[:,'Work load Average/day ']<lower5].index]=np.nan=np.nan\n",
    "data['Work load Average/day '][data[data.loc[:,'Work load Average/day ']>upper5].index]=np.nan=np.nan\n",
    "\n",
    "\n",
    "q75_6,q25_6 = np.percentile(data['Hit target'],[75,25])\n",
    "iqr6 = q75_6-q25_6 # calculate the IQR (Inter Quartile Range)\n",
    "lower6 = q25_6-(1.5*iqr6)\n",
    "upper6 = q75_6+(1.5*iqr6)\n",
    "\n",
    "data['Hit target'][data[data.loc[:,'Hit target']<lower6].index]=np.nan\n",
    "data['Hit target'][data[data.loc[:,'Hit target']>upper6].index]=np.nan\n",
    "\n",
    "\n",
    "q75_7,q25_7 = np.percentile(data['Pet'],[75,25])\n",
    "iqr7 = q75_7-q25_7 # calculate the IQR (Inter Quartile Range)\n",
    "lower7 = q25_7-(1.5*iqr7)\n",
    "upper7 = q75_7+(1.5*iqr7)\n",
    "\n",
    "data['Pet'][data[data.loc[:,'Pet']<lower7].index]=np.nan\n",
    "data['Pet'][data[data.loc[:,'Pet']>upper7].index]=np.nan\n",
    "\n",
    "\n",
    "q75_8,q25_8 = np.percentile(data['Weight'],[75,25])\n",
    "iqr8 = q75_8-q25_8 # calculate the IQR (Inter Quartile Range)\n",
    "lower8 = q25_8-(1.5*iqr8)\n",
    "upper8 = q75_8+(1.5*iqr8)\n",
    "\n",
    "data['Weight'][data[data.loc[:,'Weight']<lower8].index]=np.nan\n",
    "data['Weight'][data[data.loc[:,'Weight']>upper8].index]=np.nan\n",
    "\n",
    "\n",
    "q75_9,q25_9 = np.percentile(data['Son'],[75,25])\n",
    "iqr9 = q75_9-q25_9 # calculate the IQR (Inter Quartile Range)\n",
    "lower9 = q25_9-(1.5*iqr9)\n",
    "upper9 = q75_9+(1.5*iqr9)\n",
    "\n",
    "data['Son'][data[data.loc[:,'Son']<lower9].index]=np.nan\n",
    "data['Son'][data[data.loc[:,'Son']>upper9].index]=np.nan\n",
    "\n",
    "\n",
    "q75_10,q25_10 = np.percentile(data['Height'],[75,25])\n",
    "iqr10 = q75_10-q25_10 # calculate the IQR (Inter Quartile Range)\n",
    "lower10 = q25_10-(1.5*iqr10)\n",
    "upper10 = q75_10+(1.5*iqr10)\n",
    "\n",
    "data['Height'][data[data.loc[:,'Height']<lower10].index]=np.nan\n",
    "data['Height'][data[data.loc[:,'Height']>upper10].index]=np.nan\n",
    "\n",
    "\n",
    "q75_11,q25_11 = np.percentile(data['Body mass index'],[75,25])\n",
    "iqr11 = q75_11-q25_11 # calculate the IQR (Inter Quartile Range)\n",
    "lower11 = q25_11-(1.5*iqr11)\n",
    "upper11 = q75_11+(1.5*iqr11)\n",
    "\n",
    "data['Body mass index'][data[data.loc[:,'Body mass index']<lower11].index]=np.nan\n",
    "data['Body mass index'][data[data.loc[:,'Body mass index']>upper11].index]=np.nan\n",
    "\n",
    "\n",
    "q75_12,q25_12 = np.percentile(data['Absenteeism time in hours'],[75,25])\n",
    "iqr12 = q75_12-q25_12 # calculate the IQR (Inter Quartile Range)\n",
    "lower12 = q25_12-(1.5*iqr12)\n",
    "upper12 = q75_12+(1.5*iqr12)\n",
    "\n",
    "data['Absenteeism time in hours'][data[data.loc[:,'Absenteeism time in hours']<lower12].index]=np.nan\n",
    "data['Absenteeism time in hours'][data[data.loc[:,'Absenteeism time in hours']>upper12].index]=np.nan\n"
   ]
  },
  {
   "cell_type": "code",
   "execution_count": 278,
   "metadata": {},
   "outputs": [],
   "source": [
    "#writer = pd.ExcelWriter('Data_with_NA_as_outlier.xlsx', engine='xlsxwriter')\n",
    "#data.to_excel(writer, sheet_name='Sheet1')\n",
    "#writer.save()"
   ]
  },
  {
   "cell_type": "code",
   "execution_count": 279,
   "metadata": {},
   "outputs": [],
   "source": [
    "data['Work load Average/day '] = data['Work load Average/day '].fillna(data['Work load Average/day '].median())\n",
    "\n",
    "data['Hit target'] = data['Hit target'].fillna(data['Hit target'].median())\n",
    "\n",
    "data['Absenteeism time in hours'] = data['Absenteeism time in hours'].fillna(data['Absenteeism time in hours'].median())\n",
    "\n",
    "for i in range(1,len(unique(data['ID']))+1):\n",
    "    data['Transportation expense'] = data['Transportation expense'].fillna(data.groupby(data.ID==i)['Transportation expense'].mean()[1])\n",
    "    data['Distance from Residence to Work'] = data['Distance from Residence to Work'].fillna(data.groupby(data.ID==i)['Distance from Residence to Work'].mean()[1])\n",
    "    data['Service time'] = data['Service time'].fillna(data.groupby(data.ID==i)['Service time'].mean()[1])\n",
    "    data['Age'] = data['Age'].fillna(data.groupby(data.ID==i)['Age'].mean()[1])\n",
    "    data['Son'] = data['Son'].fillna(data.groupby(data.ID==i)['Son'].mean()[1])\n",
    "    data['Pet'] = data['Pet'].fillna(data.groupby(data.ID==i)['Pet'].mean()[1])\n",
    "    data['Weight'] = data['Weight'].fillna(data.groupby(data.ID==i)['Weight'].mean()[1])\n",
    "    data['Height'] = data['Height'].fillna(data.groupby(data.ID==i)['Height'].mean()[1])\n",
    "    data['Body mass index'] = data['Body mass index'].fillna(data.groupby(data.ID==i)['Body mass index'].mean()[1])\n",
    "    "
   ]
  },
  {
   "cell_type": "code",
   "execution_count": 280,
   "metadata": {},
   "outputs": [],
   "source": [
    "#writer = pd.ExcelWriter('Dummy3.xlsx', engine='xlsxwriter')\n",
    "#data.to_excel(writer, sheet_name='Sheet1')\n",
    "#writer.save()"
   ]
  },
  {
   "cell_type": "markdown",
   "metadata": {},
   "source": [
    "# Feature selection"
   ]
  },
  {
   "cell_type": "code",
   "execution_count": 281,
   "metadata": {},
   "outputs": [
    {
     "data": {
      "text/plain": [
       "<matplotlib.axes._subplots.AxesSubplot at 0x124d4190>"
      ]
     },
     "execution_count": 281,
     "metadata": {},
     "output_type": "execute_result"
    },
    {
     "data": {
      "image/png": "[encoded data removed]",
      "text/plain": [
       "<Figure size 576x432 with 2 Axes>"
      ]
     },
     "metadata": {},
     "output_type": "display_data"
    }
   ],
   "source": [
    "# Correlation analysis on continuous variables\n",
    "\n",
    "# Null hypothesis : All independent variables are independent of each other and there is high dependency between independent\n",
    "# variables and dependent (target) variable.\n",
    "\n",
    "#data.describe()\n",
    "\n",
    "# Listing out continuous variables\n",
    "\n",
    "num = ['Transportation expense','Distance from Residence to Work','Service time','Age','Work load Average/day ','Hit target','Pet','Weight','Son','Height','Body mass index','Absenteeism time in hours']\n",
    "\n",
    "df_continuous = data.loc[:,num]\n",
    "\n",
    "#df_continuous\n",
    "\n",
    "f,ax = plt.subplots(figsize=(8,6))\n",
    "\n",
    "correlation = df_continuous.corr()\n",
    "\n",
    "sns.heatmap(correlation,mask=np.zeros_like(correlation,dtype=np.bool),cmap=sns.diverging_palette(220,10,as_cmap=True),square=True,robust=True,ax=ax)"
   ]
  },
  {
   "cell_type": "code",
   "execution_count": 282,
   "metadata": {},
   "outputs": [],
   "source": [
    "# Converting to categorical variables\n",
    "\n",
    "data['ID'] = pd.Categorical(data['ID'])\n",
    "data['Reason for absence'] = pd.Categorical(data['Reason for absence'])\n",
    "data['Month of absence'] = pd.Categorical(data['Month of absence'])\n",
    "data['Day of the week'] = pd.Categorical(data['Day of the week'])\n",
    "data['Seasons'] = pd.Categorical(data['Seasons'])\n",
    "data['Disciplinary failure'] = pd.Categorical(data['Disciplinary failure'])\n",
    "data['Education'] = pd.Categorical(data['Education'])\n",
    "data['Social smoker'] = pd.Categorical(data['Social smoker'])\n",
    "data['Social drinker'] = pd.Categorical(data['Social drinker'])\n",
    "\n",
    "data['Reason for absence'] = data['Reason for absence'].replace('nan','medical consultation') # as mode for data['Reason for a"
   ]
  },
  {
   "cell_type": "code",
   "execution_count": 283,
   "metadata": {},
   "outputs": [],
   "source": [
    "#writer = pd.ExcelWriter('Dummy4.xlsx', engine='xlsxwriter')\n",
    "#data.to_excel(writer, sheet_name='Sheet1')\n",
    "#writer.save()"
   ]
  },
  {
   "cell_type": "code",
   "execution_count": 284,
   "metadata": {},
   "outputs": [],
   "source": [
    "#cat = ['ID','Reason for absence','Month of absence','Day of the week','Seasons','Disciplinary failure','Education','Social drinker','Social smoker']\n",
    "    \n",
    "#formula = 'Absenteeism time in hours ~ ID + Reason for absence + ID:Reason for absence'\n",
    "#model = ols(formula, data).fit()\n",
    "#aov_table = statsmodels.stats.anova.anova_lm(model, typ=2)\n",
    "#print(aov_table)\n",
    "\n",
    "#data1 = [[data['ID'],data['Reason for absence'],data['Month of absence'],data['Day of the week'],data['Seasons'],data['Disciplinary failure'],data['Education'],data['Social drinker'],data['Social smoker']]\n",
    "#df1 = pd.DataFrame(data1,columns=['ID','Reason for absence','Month of absence','Day of the week','Seasons','Disciplinary failure','Education','Social drinker','Social smoker'])\n",
    "#print(df1)\n"
   ]
  },
  {
   "cell_type": "code",
   "execution_count": 285,
   "metadata": {},
   "outputs": [],
   "source": [
    "writer = pd.ExcelWriter('Dummy.xlsx', engine='xlsxwriter')\n",
    "data.to_excel(writer, sheet_name='Sheet1')\n",
    "writer.save()"
   ]
  },
  {
   "cell_type": "code",
   "execution_count": 230,
   "metadata": {},
   "outputs": [],
   "source": [
    "# Eliminate \"Day of the week\",\"Education\",\"Social Smoker\" from dataset as p>0.05\n",
    "\n",
    "df1 = data\n",
    "\n",
    "df1 = df1.drop(['Day of the week','Reason for absence','Education','Social smoker','Social drinker','Month of absence','Day of the week','Seasons','Disciplinary failure','Distance from Residence to Work','Son','Pet','Weight','Body mass index'], axis=1)"
   ]
  },
  {
   "cell_type": "code",
   "execution_count": 231,
   "metadata": {},
   "outputs": [
    {
     "data": {
      "text/plain": [
       "(740, 8)"
      ]
     },
     "execution_count": 231,
     "metadata": {},
     "output_type": "execute_result"
    }
   ],
   "source": [
    "df1.shape"
   ]
  },
  {
   "cell_type": "code",
   "execution_count": 232,
   "metadata": {},
   "outputs": [],
   "source": [
    "# Normalizing the numeric variables of the data after feature selection\n",
    "\n",
    "#data.head()\n",
    "cnames = ['Transportation expense','Service time','Age','Work load Average/day ','Hit target','Height','Absenteeism time in hours']\n",
    "for i in cnames:\n",
    "    df1[i] = (df1[i] - min(df1[i]))/(max(df1[i]) - min(df1[i]))"
   ]
  },
  {
   "cell_type": "code",
   "execution_count": 233,
   "metadata": {},
   "outputs": [],
   "source": [
    "#writer = pd.ExcelWriter('Dummy5.xlsx', engine='xlsxwriter')\n",
    "#df1.to_excel(writer, sheet_name='Sheet1')\n",
    "#writer.save()"
   ]
  },
  {
   "cell_type": "code",
   "execution_count": 234,
   "metadata": {},
   "outputs": [],
   "source": [
    "# Decision Tree Regression model\n",
    "\n",
    "# Train and test data\n",
    "\n",
    "#df1 = df1.drop(['Reason for absence'], axis=0)\n",
    "train,test = train_test_split(df1, test_size=0.05)\n",
    "\n",
    "# Designing model\n",
    "fit = DecisionTreeRegressor(max_depth=4).fit(train.iloc[:,0:7], train.iloc[:,7])\n",
    "\n",
    "# Predicting values\n",
    "\n",
    "predictions_DT = fit.predict(test.iloc[:,0:7])"
   ]
  },
  {
   "cell_type": "code",
   "execution_count": 224,
   "metadata": {},
   "outputs": [
    {
     "data": {
      "text/plain": [
       "array([0.33298319, 0.24236111, 0.24236111, 0.22164352, 0.22164352,\n",
       "       0.24236111, 0.22164352, 0.24236111, 0.22164352, 0.22164352,\n",
       "       0.22164352, 0.33035714, 0.22164352, 0.22164352, 0.22164352,\n",
       "       0.31730769, 0.33298319, 0.33298319, 0.22164352, 0.24236111,\n",
       "       0.22164352, 0.22164352, 0.22164352, 0.31730769, 0.24236111,\n",
       "       0.22164352, 0.22164352, 0.22164352, 0.22164352, 0.22164352,\n",
       "       0.22164352, 0.22164352, 0.24236111, 0.31730769, 0.22164352,\n",
       "       0.33298319, 0.22164352])"
      ]
     },
     "execution_count": 224,
     "metadata": {},
     "output_type": "execute_result"
    }
   ],
   "source": [
    "predictions_DT"
   ]
  },
  {
   "cell_type": "code",
   "execution_count": 225,
   "metadata": {},
   "outputs": [],
   "source": [
    "# Calculate MAPE\n",
    "\n",
    "def find_mape(y_actual,y_predicted):\n",
    "    mape = np.mean(np.abs((y_actual - y_predicted)/y_actual))*100\n",
    "    return mape"
   ]
  },
  {
   "cell_type": "code",
   "execution_count": 226,
   "metadata": {},
   "outputs": [
    {
     "data": {
      "text/plain": [
       "inf"
      ]
     },
     "execution_count": 226,
     "metadata": {},
     "output_type": "execute_result"
    }
   ],
   "source": [
    "find_mape(test.iloc[:,7], predictions_DT)"
   ]
  },
  {
   "cell_type": "code",
   "execution_count": null,
   "metadata": {},
   "outputs": [],
   "source": []
  }
 ],
 "metadata": {
  "kernelspec": {
   "display_name": "Python 3",
   "language": "python",
   "name": "python3"
  },
  "language_info": {
   "codemirror_mode": {
    "name": "ipython",
    "version": 3
   },
   "file_extension": ".py",
   "mimetype": "text/x-python",
   "name": "python",
   "nbconvert_exporter": "python",
   "pygments_lexer": "ipython3",
   "version": "3.6.7"
  }
 },
 "nbformat": 4,
 "nbformat_minor": 2
}
